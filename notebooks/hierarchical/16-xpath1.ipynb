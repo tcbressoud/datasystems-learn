{
 "cells": [
  {
   "cell_type": "code",
   "execution_count": null,
   "metadata": {},
   "outputs": [],
   "source": [
    "from lxml import etree\n",
    "import os.path"
   ]
  },
  {
   "cell_type": "code",
   "execution_count": null,
   "metadata": {},
   "outputs": [],
   "source": [
    "myparser = etree.XMLParser(remove_blank_text=True)\n",
    "path1 = os.path.join(\"../../data/hierarchical\", \"ind0.xml\")\n",
    "ind_tree = etree.parse(path1, parser=myparser)\n",
    "ind_root = ind_tree.getroot()"
   ]
  },
  {
   "cell_type": "code",
   "execution_count": null,
   "metadata": {},
   "outputs": [],
   "source": [
    "def nodeInfo(node):\n",
    "    print(\"Tag:\", node.tag)\n",
    "    print(\"Text:\", repr(node.text))\n",
    "    print(\"XML Attributes:\", node.attrib)"
   ]
  },
  {
   "cell_type": "code",
   "execution_count": null,
   "metadata": {},
   "outputs": [],
   "source": [
    "nodeInfo(ind_root)"
   ]
  },
  {
   "cell_type": "code",
   "execution_count": null,
   "metadata": {},
   "outputs": [],
   "source": [
    "for country in ind_root.getchildren():\n",
    "    nodeInfo(country)"
   ]
  },
  {
   "cell_type": "code",
   "execution_count": null,
   "metadata": {},
   "outputs": [],
   "source": [
    "nodeInfo(ind_root[1])"
   ]
  },
  {
   "cell_type": "markdown",
   "metadata": {},
   "source": [
    "**Path investigation**\n",
    "\n",
    "1. Path for root\n",
    "2. Path with multiple tag-steps to get single Element result\n",
    "3. Path with multiple tag-steps to get multiple Element results\n",
    "4. Path with no tag match\n",
    "5. Path with text match\n",
    "6. Path with attribute match (but not predicate)\n",
    "7. Path with single level wildcard\n",
    "8. Path with multi-level wildcard"
   ]
  },
  {
   "cell_type": "code",
   "execution_count": null,
   "metadata": {},
   "outputs": [],
   "source": [
    "ind_root.xpath(\"/indicators\")"
   ]
  },
  {
   "cell_type": "code",
   "execution_count": null,
   "metadata": {},
   "outputs": [],
   "source": [
    "ind_root[1].xpath(\"timedata\")"
   ]
  },
  {
   "cell_type": "code",
   "execution_count": null,
   "metadata": {},
   "outputs": [],
   "source": []
  }
 ],
 "metadata": {
  "kernelspec": {
   "display_name": "Python 3.9.7 ('base')",
   "language": "python",
   "name": "python3"
  },
  "language_info": {
   "codemirror_mode": {
    "name": "ipython",
    "version": 3
   },
   "file_extension": ".py",
   "mimetype": "text/x-python",
   "name": "python",
   "nbconvert_exporter": "python",
   "pygments_lexer": "ipython3",
   "version": "3.9.7"
  },
  "vscode": {
   "interpreter": {
    "hash": "0e5c947f8c0a791f711dfda831a179cc56861f254fd023eea7e32159f6d3bc04"
   }
  }
 },
 "nbformat": 4,
 "nbformat_minor": 4
}
