{
 "cells": [
  {
   "cell_type": "markdown",
   "metadata": {},
   "source": [
    "# Accenture Lunch and Learn: Data Systems\n",
    "\n",
    "## Preliminaries\n",
    "\n",
    "### Definitions and Terminology\n",
    "\n",
    "- Definition of Systems and of Data Systems\n",
    "    - Data Systens: Forms and Sources of Data\n",
    "- The Players\n",
    "- Data Systems Architecture\n",
    "- Structure versus Structure\n",
    "- Data Models versus Data Models\n",
    "\n",
    "## Data Models\n",
    "\n",
    "## Dive 1: Tidy Data\n",
    "\n",
    "## Dive 2: Relational\n",
    "\n",
    "## Dive 3: Hierarchical"
   ]
  },
  {
   "cell_type": "markdown",
   "metadata": {},
   "source": []
  }
 ],
 "metadata": {
  "kernelspec": {
   "display_name": "Python 3.9.6 64-bit",
   "language": "python",
   "name": "python3"
  },
  "language_info": {
   "codemirror_mode": {
    "name": "ipython",
    "version": 3
   },
   "file_extension": ".py",
   "mimetype": "text/x-python",
   "name": "python",
   "nbconvert_exporter": "python",
   "pygments_lexer": "ipython3",
   "version": "3.9.6"
  },
  "orig_nbformat": 4,
  "vscode": {
   "interpreter": {
    "hash": "31f2aee4e71d21fbe5cf8b01ff0e069b9275f58929596ceb00d14d90e3e16cd6"
   }
  }
 },
 "nbformat": 4,
 "nbformat_minor": 2
}
