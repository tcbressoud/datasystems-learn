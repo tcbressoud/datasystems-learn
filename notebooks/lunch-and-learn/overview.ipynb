{
 "cells": [
  {
   "cell_type": "markdown",
   "metadata": {},
   "source": [
    "# Accenture Lunch and Learn: Data Systems\n",
    "\n",
    "## Preliminaries\n",
    "\n",
    "### Definitions and Terminology\n",
    "\n",
    "- Definition of Systems and of Data Systems\n",
    "    - Data Systens: Forms and Sources of Data\n",
    "- The Players\n",
    "- Data Systems Architecture\n",
    "- Structure versus Structure\n",
    "- Data Models versus Data Models\n",
    "\n",
    "## Data Models\n",
    "\n",
    "1. Structure of the data form\n",
    "2. Operations on the data form, given its structure\n",
    "   - Procedural\n",
    "   - Declarative\n",
    "   - Functional\n",
    "3. Constraints\n",
    "   - How are they defined\n",
    "   - To what degree are they enforced\n",
    "4. Consistency guarantees\n",
    "\n",
    "## Dive 1: Tidy Data\n",
    "\n",
    "### Rules of Tidy Data\n",
    "\n",
    "1. Each variable forms a column\n",
    "2. Each observation forms a row\n",
    "3. Each type of observational unit forms a table\n",
    "\n",
    "### Rules of Database Codd's Normal Form\n",
    "\n",
    "1. A table is in 1st normal form if\n",
    "  - It stores information in rows and columns where one or more or the columns, called the primary key, uniquely identifies each row\n",
    "  - Each column contains atomic values, and there are no repeating groups of colums\n",
    "2. A table is in 2nd normal form if\n",
    "  - It is in first normal form, and\n",
    "  - All the non-key columns are dependent on the primary's primary key\n",
    "3. A table is in 3rd normal form if\n",
    "  - It is in 2nd normal form, and\n",
    "  - It contains *only* columns that are non-transitively dependent of the primary key\n",
    "\n",
    "## Dive 2: Relational\n",
    "\n",
    "## Dive 3: Hierarchical"
   ]
  }
 ],
 "metadata": {
  "kernelspec": {
   "display_name": "Python 3.9.7 ('base')",
   "language": "python",
   "name": "python3"
  },
  "language_info": {
   "codemirror_mode": {
    "name": "ipython",
    "version": 3
   },
   "file_extension": ".py",
   "mimetype": "text/x-python",
   "name": "python",
   "nbconvert_exporter": "python",
   "pygments_lexer": "ipython3",
   "version": "3.9.7"
  },
  "orig_nbformat": 4,
  "vscode": {
   "interpreter": {
    "hash": "0e5c947f8c0a791f711dfda831a179cc56861f254fd023eea7e32159f6d3bc04"
   }
  }
 },
 "nbformat": 4,
 "nbformat_minor": 2
}
